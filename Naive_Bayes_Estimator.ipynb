{
  "nbformat": 4,
  "nbformat_minor": 0,
  "metadata": {
    "colab": {
      "name": "Naive Bayes Estimator",
      "provenance": [],
      "toc_visible": true,
      "authorship_tag": "ABX9TyPe3h9vXuCx6Sp2zBI5veCz",
      "include_colab_link": true
    },
    "kernelspec": {
      "name": "python3",
      "display_name": "Python 3"
    }
  },
  "cells": [
    {
      "cell_type": "markdown",
      "metadata": {
        "id": "view-in-github",
        "colab_type": "text"
      },
      "source": [
        "<a href=\"https://colab.research.google.com/github/GladwelWanjau/Week-9-Moringa-School-DataScience-Independent-Project/blob/main/Naive_Bayes_Estimator.ipynb\" target=\"_parent\"><img src=\"https://colab.research.google.com/assets/colab-badge.svg\" alt=\"Open In Colab\"/></a>"
      ]
    },
    {
      "cell_type": "markdown",
      "metadata": {
        "id": "auuDfpufiWiQ"
      },
      "source": [
        "#Developing a spam filter to Predict whether an email is spam or not\n",
        "\n",
        "\n",
        "\n",
        "\n"
      ]
    },
    {
      "cell_type": "markdown",
      "metadata": {
        "id": "2fjEzqwbi2mH"
      },
      "source": [
        "# Specifying the analysis question\n",
        "To utilize Naive Bayes Estimator Machine Learning Technique in developing a spam filter."
      ]
    },
    {
      "cell_type": "markdown",
      "metadata": {
        "id": "MspTWUoyjLLo"
      },
      "source": [
        "# Metrics for Success\n",
        "1.Identify which measurements are most important in predicting whether an email is spam or not. 2.A high accuracy of 80% and above"
      ]
    },
    {
      "cell_type": "markdown",
      "metadata": {
        "id": "v5GoXND6jfjb"
      },
      "source": [
        "# Understanding the Context\n",
        "The data used was collected from both spam and non spam emails which are necessary in developing a spam filter.\n",
        "It was created by Mark Hopkins, Erik Reeber, George Forman, Jaap Suermondt and Hewlett-Packard Labs, 1501 Page Mill Rd., Palo Alto, CA 94304.\n"
      ]
    },
    {
      "cell_type": "code",
      "metadata": {
        "id": "X6KwkZtoDbd_"
      },
      "source": [
        "# Loading the required libraries\n",
        "import pandas as pd\n",
        "import numpy as np\n",
        "import matplotlib.pyplot as plt\n",
        "import seaborn as sns\n",
        "\n",
        "from sklearn import metrics\n",
        "from sklearn.model_selection import train_test_split\n",
        "from sklearn import datasets\n",
        "from sklearn.naive_bayes import GaussianNB\n",
        "from sklearn.naive_bayes import MultinomialNB\n",
        "from sklearn import decomposition"
      ],
      "execution_count": 76,
      "outputs": []
    },
    {
      "cell_type": "markdown",
      "metadata": {
        "id": "K-vSvcaNn42k"
      },
      "source": [
        "# Reading the data"
      ]
    },
    {
      "cell_type": "code",
      "metadata": {
        "id": "ZKBBl0xfE2hh",
        "outputId": "3db62d20-f250-48ee-81c8-5ab54f996551",
        "colab": {
          "base_uri": "https://localhost:8080/",
          "height": 379
        }
      },
      "source": [
        "df = pd.read_csv('spambase.data')\n",
        "df.sample(10)\n"
      ],
      "execution_count": 37,
      "outputs": [
        {
          "output_type": "execute_result",
          "data": {
            "text/html": [
              "<div>\n",
              "<style scoped>\n",
              "    .dataframe tbody tr th:only-of-type {\n",
              "        vertical-align: middle;\n",
              "    }\n",
              "\n",
              "    .dataframe tbody tr th {\n",
              "        vertical-align: top;\n",
              "    }\n",
              "\n",
              "    .dataframe thead th {\n",
              "        text-align: right;\n",
              "    }\n",
              "</style>\n",
              "<table border=\"1\" class=\"dataframe\">\n",
              "  <thead>\n",
              "    <tr style=\"text-align: right;\">\n",
              "      <th></th>\n",
              "      <th>0</th>\n",
              "      <th>0.64</th>\n",
              "      <th>0.64.1</th>\n",
              "      <th>0.1</th>\n",
              "      <th>0.32</th>\n",
              "      <th>0.2</th>\n",
              "      <th>0.3</th>\n",
              "      <th>0.4</th>\n",
              "      <th>0.5</th>\n",
              "      <th>0.6</th>\n",
              "      <th>0.7</th>\n",
              "      <th>0.64.2</th>\n",
              "      <th>0.8</th>\n",
              "      <th>0.9</th>\n",
              "      <th>0.10</th>\n",
              "      <th>0.32.1</th>\n",
              "      <th>0.11</th>\n",
              "      <th>1.29</th>\n",
              "      <th>1.93</th>\n",
              "      <th>0.12</th>\n",
              "      <th>0.96</th>\n",
              "      <th>0.13</th>\n",
              "      <th>0.14</th>\n",
              "      <th>0.15</th>\n",
              "      <th>0.16</th>\n",
              "      <th>0.17</th>\n",
              "      <th>0.18</th>\n",
              "      <th>0.19</th>\n",
              "      <th>0.20</th>\n",
              "      <th>0.21</th>\n",
              "      <th>0.22</th>\n",
              "      <th>0.23</th>\n",
              "      <th>0.24</th>\n",
              "      <th>0.25</th>\n",
              "      <th>0.26</th>\n",
              "      <th>0.27</th>\n",
              "      <th>0.28</th>\n",
              "      <th>0.29</th>\n",
              "      <th>0.30</th>\n",
              "      <th>0.31</th>\n",
              "      <th>0.32.2</th>\n",
              "      <th>0.33</th>\n",
              "      <th>0.34</th>\n",
              "      <th>0.35</th>\n",
              "      <th>0.36</th>\n",
              "      <th>0.37</th>\n",
              "      <th>0.38</th>\n",
              "      <th>0.39</th>\n",
              "      <th>0.40</th>\n",
              "      <th>0.41</th>\n",
              "      <th>0.42</th>\n",
              "      <th>0.778</th>\n",
              "      <th>0.43</th>\n",
              "      <th>0.44</th>\n",
              "      <th>3.756</th>\n",
              "      <th>61</th>\n",
              "      <th>278</th>\n",
              "      <th>1</th>\n",
              "    </tr>\n",
              "  </thead>\n",
              "  <tbody>\n",
              "    <tr>\n",
              "      <th>3003</th>\n",
              "      <td>0.0</td>\n",
              "      <td>0.0</td>\n",
              "      <td>0.83</td>\n",
              "      <td>0.0</td>\n",
              "      <td>0.41</td>\n",
              "      <td>0.00</td>\n",
              "      <td>0.00</td>\n",
              "      <td>0.00</td>\n",
              "      <td>0.00</td>\n",
              "      <td>0.00</td>\n",
              "      <td>0.00</td>\n",
              "      <td>0.00</td>\n",
              "      <td>0.41</td>\n",
              "      <td>0.0</td>\n",
              "      <td>0.0</td>\n",
              "      <td>0.00</td>\n",
              "      <td>0.0</td>\n",
              "      <td>0.00</td>\n",
              "      <td>3.33</td>\n",
              "      <td>0.0</td>\n",
              "      <td>0.00</td>\n",
              "      <td>0.0</td>\n",
              "      <td>0.0</td>\n",
              "      <td>0.00</td>\n",
              "      <td>0.0</td>\n",
              "      <td>0.0</td>\n",
              "      <td>1.25</td>\n",
              "      <td>0.0</td>\n",
              "      <td>0.0</td>\n",
              "      <td>0.0</td>\n",
              "      <td>0.0</td>\n",
              "      <td>0.41</td>\n",
              "      <td>0.00</td>\n",
              "      <td>0.41</td>\n",
              "      <td>0.0</td>\n",
              "      <td>0.0</td>\n",
              "      <td>0.00</td>\n",
              "      <td>0.0</td>\n",
              "      <td>0.0</td>\n",
              "      <td>0.0</td>\n",
              "      <td>0.0</td>\n",
              "      <td>0.0</td>\n",
              "      <td>0.0</td>\n",
              "      <td>0.0</td>\n",
              "      <td>0.41</td>\n",
              "      <td>0.00</td>\n",
              "      <td>0.0</td>\n",
              "      <td>0.0</td>\n",
              "      <td>0.000</td>\n",
              "      <td>0.065</td>\n",
              "      <td>0.000</td>\n",
              "      <td>0.195</td>\n",
              "      <td>0.000</td>\n",
              "      <td>0.0</td>\n",
              "      <td>1.444</td>\n",
              "      <td>22</td>\n",
              "      <td>91</td>\n",
              "      <td>0</td>\n",
              "    </tr>\n",
              "    <tr>\n",
              "      <th>2</th>\n",
              "      <td>0.0</td>\n",
              "      <td>0.0</td>\n",
              "      <td>0.00</td>\n",
              "      <td>0.0</td>\n",
              "      <td>0.63</td>\n",
              "      <td>0.00</td>\n",
              "      <td>0.31</td>\n",
              "      <td>0.63</td>\n",
              "      <td>0.31</td>\n",
              "      <td>0.63</td>\n",
              "      <td>0.31</td>\n",
              "      <td>0.31</td>\n",
              "      <td>0.31</td>\n",
              "      <td>0.0</td>\n",
              "      <td>0.0</td>\n",
              "      <td>0.31</td>\n",
              "      <td>0.0</td>\n",
              "      <td>0.00</td>\n",
              "      <td>3.18</td>\n",
              "      <td>0.0</td>\n",
              "      <td>0.31</td>\n",
              "      <td>0.0</td>\n",
              "      <td>0.0</td>\n",
              "      <td>0.00</td>\n",
              "      <td>0.0</td>\n",
              "      <td>0.0</td>\n",
              "      <td>0.00</td>\n",
              "      <td>0.0</td>\n",
              "      <td>0.0</td>\n",
              "      <td>0.0</td>\n",
              "      <td>0.0</td>\n",
              "      <td>0.00</td>\n",
              "      <td>0.00</td>\n",
              "      <td>0.00</td>\n",
              "      <td>0.0</td>\n",
              "      <td>0.0</td>\n",
              "      <td>0.00</td>\n",
              "      <td>0.0</td>\n",
              "      <td>0.0</td>\n",
              "      <td>0.0</td>\n",
              "      <td>0.0</td>\n",
              "      <td>0.0</td>\n",
              "      <td>0.0</td>\n",
              "      <td>0.0</td>\n",
              "      <td>0.00</td>\n",
              "      <td>0.00</td>\n",
              "      <td>0.0</td>\n",
              "      <td>0.0</td>\n",
              "      <td>0.000</td>\n",
              "      <td>0.137</td>\n",
              "      <td>0.000</td>\n",
              "      <td>0.137</td>\n",
              "      <td>0.000</td>\n",
              "      <td>0.0</td>\n",
              "      <td>3.537</td>\n",
              "      <td>40</td>\n",
              "      <td>191</td>\n",
              "      <td>1</td>\n",
              "    </tr>\n",
              "    <tr>\n",
              "      <th>955</th>\n",
              "      <td>0.0</td>\n",
              "      <td>0.0</td>\n",
              "      <td>0.00</td>\n",
              "      <td>0.0</td>\n",
              "      <td>3.09</td>\n",
              "      <td>0.00</td>\n",
              "      <td>1.03</td>\n",
              "      <td>1.03</td>\n",
              "      <td>0.00</td>\n",
              "      <td>1.03</td>\n",
              "      <td>0.00</td>\n",
              "      <td>1.03</td>\n",
              "      <td>0.00</td>\n",
              "      <td>0.0</td>\n",
              "      <td>0.0</td>\n",
              "      <td>2.06</td>\n",
              "      <td>0.0</td>\n",
              "      <td>0.00</td>\n",
              "      <td>2.06</td>\n",
              "      <td>0.0</td>\n",
              "      <td>1.03</td>\n",
              "      <td>0.0</td>\n",
              "      <td>0.0</td>\n",
              "      <td>0.00</td>\n",
              "      <td>0.0</td>\n",
              "      <td>0.0</td>\n",
              "      <td>0.00</td>\n",
              "      <td>0.0</td>\n",
              "      <td>0.0</td>\n",
              "      <td>0.0</td>\n",
              "      <td>0.0</td>\n",
              "      <td>0.00</td>\n",
              "      <td>0.00</td>\n",
              "      <td>0.00</td>\n",
              "      <td>0.0</td>\n",
              "      <td>0.0</td>\n",
              "      <td>0.00</td>\n",
              "      <td>0.0</td>\n",
              "      <td>0.0</td>\n",
              "      <td>0.0</td>\n",
              "      <td>0.0</td>\n",
              "      <td>0.0</td>\n",
              "      <td>0.0</td>\n",
              "      <td>0.0</td>\n",
              "      <td>1.03</td>\n",
              "      <td>0.00</td>\n",
              "      <td>0.0</td>\n",
              "      <td>0.0</td>\n",
              "      <td>0.000</td>\n",
              "      <td>0.000</td>\n",
              "      <td>0.000</td>\n",
              "      <td>0.000</td>\n",
              "      <td>0.000</td>\n",
              "      <td>0.0</td>\n",
              "      <td>10.692</td>\n",
              "      <td>65</td>\n",
              "      <td>139</td>\n",
              "      <td>1</td>\n",
              "    </tr>\n",
              "    <tr>\n",
              "      <th>4083</th>\n",
              "      <td>0.0</td>\n",
              "      <td>0.0</td>\n",
              "      <td>0.00</td>\n",
              "      <td>0.0</td>\n",
              "      <td>0.00</td>\n",
              "      <td>0.00</td>\n",
              "      <td>0.00</td>\n",
              "      <td>0.00</td>\n",
              "      <td>0.00</td>\n",
              "      <td>0.00</td>\n",
              "      <td>0.00</td>\n",
              "      <td>0.00</td>\n",
              "      <td>0.00</td>\n",
              "      <td>0.0</td>\n",
              "      <td>0.0</td>\n",
              "      <td>0.00</td>\n",
              "      <td>0.0</td>\n",
              "      <td>0.00</td>\n",
              "      <td>6.66</td>\n",
              "      <td>0.0</td>\n",
              "      <td>0.00</td>\n",
              "      <td>0.0</td>\n",
              "      <td>0.0</td>\n",
              "      <td>0.00</td>\n",
              "      <td>0.0</td>\n",
              "      <td>0.0</td>\n",
              "      <td>0.00</td>\n",
              "      <td>0.0</td>\n",
              "      <td>0.0</td>\n",
              "      <td>0.0</td>\n",
              "      <td>0.0</td>\n",
              "      <td>0.00</td>\n",
              "      <td>0.00</td>\n",
              "      <td>0.00</td>\n",
              "      <td>0.0</td>\n",
              "      <td>0.0</td>\n",
              "      <td>0.00</td>\n",
              "      <td>0.0</td>\n",
              "      <td>0.0</td>\n",
              "      <td>0.0</td>\n",
              "      <td>0.0</td>\n",
              "      <td>0.0</td>\n",
              "      <td>0.0</td>\n",
              "      <td>0.0</td>\n",
              "      <td>3.33</td>\n",
              "      <td>3.33</td>\n",
              "      <td>0.0</td>\n",
              "      <td>0.0</td>\n",
              "      <td>0.000</td>\n",
              "      <td>0.537</td>\n",
              "      <td>0.000</td>\n",
              "      <td>1.075</td>\n",
              "      <td>0.000</td>\n",
              "      <td>0.0</td>\n",
              "      <td>1.200</td>\n",
              "      <td>3</td>\n",
              "      <td>12</td>\n",
              "      <td>0</td>\n",
              "    </tr>\n",
              "    <tr>\n",
              "      <th>4129</th>\n",
              "      <td>0.0</td>\n",
              "      <td>0.0</td>\n",
              "      <td>0.52</td>\n",
              "      <td>0.0</td>\n",
              "      <td>0.00</td>\n",
              "      <td>1.04</td>\n",
              "      <td>0.00</td>\n",
              "      <td>0.00</td>\n",
              "      <td>0.00</td>\n",
              "      <td>0.52</td>\n",
              "      <td>0.00</td>\n",
              "      <td>1.57</td>\n",
              "      <td>0.00</td>\n",
              "      <td>0.0</td>\n",
              "      <td>0.0</td>\n",
              "      <td>0.00</td>\n",
              "      <td>0.0</td>\n",
              "      <td>0.00</td>\n",
              "      <td>3.66</td>\n",
              "      <td>0.0</td>\n",
              "      <td>0.52</td>\n",
              "      <td>0.0</td>\n",
              "      <td>0.0</td>\n",
              "      <td>0.00</td>\n",
              "      <td>0.0</td>\n",
              "      <td>0.0</td>\n",
              "      <td>0.00</td>\n",
              "      <td>0.0</td>\n",
              "      <td>0.0</td>\n",
              "      <td>0.0</td>\n",
              "      <td>0.0</td>\n",
              "      <td>0.00</td>\n",
              "      <td>0.00</td>\n",
              "      <td>0.00</td>\n",
              "      <td>0.0</td>\n",
              "      <td>0.0</td>\n",
              "      <td>0.00</td>\n",
              "      <td>0.0</td>\n",
              "      <td>0.0</td>\n",
              "      <td>0.0</td>\n",
              "      <td>0.0</td>\n",
              "      <td>0.0</td>\n",
              "      <td>0.0</td>\n",
              "      <td>0.0</td>\n",
              "      <td>0.00</td>\n",
              "      <td>1.04</td>\n",
              "      <td>0.0</td>\n",
              "      <td>0.0</td>\n",
              "      <td>0.000</td>\n",
              "      <td>0.000</td>\n",
              "      <td>0.000</td>\n",
              "      <td>0.090</td>\n",
              "      <td>0.000</td>\n",
              "      <td>0.0</td>\n",
              "      <td>1.466</td>\n",
              "      <td>6</td>\n",
              "      <td>44</td>\n",
              "      <td>0</td>\n",
              "    </tr>\n",
              "    <tr>\n",
              "      <th>315</th>\n",
              "      <td>0.0</td>\n",
              "      <td>0.0</td>\n",
              "      <td>0.00</td>\n",
              "      <td>0.0</td>\n",
              "      <td>0.91</td>\n",
              "      <td>0.00</td>\n",
              "      <td>0.91</td>\n",
              "      <td>0.00</td>\n",
              "      <td>0.00</td>\n",
              "      <td>0.91</td>\n",
              "      <td>0.00</td>\n",
              "      <td>0.00</td>\n",
              "      <td>0.00</td>\n",
              "      <td>0.0</td>\n",
              "      <td>0.0</td>\n",
              "      <td>0.00</td>\n",
              "      <td>0.0</td>\n",
              "      <td>0.00</td>\n",
              "      <td>0.00</td>\n",
              "      <td>0.0</td>\n",
              "      <td>0.00</td>\n",
              "      <td>0.0</td>\n",
              "      <td>0.0</td>\n",
              "      <td>0.00</td>\n",
              "      <td>0.0</td>\n",
              "      <td>0.0</td>\n",
              "      <td>0.00</td>\n",
              "      <td>0.0</td>\n",
              "      <td>0.0</td>\n",
              "      <td>0.0</td>\n",
              "      <td>0.0</td>\n",
              "      <td>0.00</td>\n",
              "      <td>0.00</td>\n",
              "      <td>0.00</td>\n",
              "      <td>0.0</td>\n",
              "      <td>0.0</td>\n",
              "      <td>0.00</td>\n",
              "      <td>0.0</td>\n",
              "      <td>0.0</td>\n",
              "      <td>0.0</td>\n",
              "      <td>0.0</td>\n",
              "      <td>0.0</td>\n",
              "      <td>0.0</td>\n",
              "      <td>0.0</td>\n",
              "      <td>0.00</td>\n",
              "      <td>0.00</td>\n",
              "      <td>0.0</td>\n",
              "      <td>0.0</td>\n",
              "      <td>0.000</td>\n",
              "      <td>0.134</td>\n",
              "      <td>0.000</td>\n",
              "      <td>0.672</td>\n",
              "      <td>0.269</td>\n",
              "      <td>0.0</td>\n",
              "      <td>4.350</td>\n",
              "      <td>31</td>\n",
              "      <td>87</td>\n",
              "      <td>1</td>\n",
              "    </tr>\n",
              "    <tr>\n",
              "      <th>4383</th>\n",
              "      <td>0.0</td>\n",
              "      <td>0.0</td>\n",
              "      <td>0.00</td>\n",
              "      <td>0.0</td>\n",
              "      <td>0.00</td>\n",
              "      <td>0.00</td>\n",
              "      <td>0.00</td>\n",
              "      <td>0.00</td>\n",
              "      <td>0.00</td>\n",
              "      <td>0.38</td>\n",
              "      <td>0.00</td>\n",
              "      <td>0.00</td>\n",
              "      <td>0.00</td>\n",
              "      <td>0.0</td>\n",
              "      <td>0.0</td>\n",
              "      <td>0.19</td>\n",
              "      <td>0.0</td>\n",
              "      <td>0.19</td>\n",
              "      <td>0.00</td>\n",
              "      <td>0.0</td>\n",
              "      <td>0.00</td>\n",
              "      <td>0.0</td>\n",
              "      <td>0.0</td>\n",
              "      <td>0.38</td>\n",
              "      <td>0.0</td>\n",
              "      <td>0.0</td>\n",
              "      <td>0.00</td>\n",
              "      <td>0.0</td>\n",
              "      <td>0.0</td>\n",
              "      <td>0.0</td>\n",
              "      <td>0.0</td>\n",
              "      <td>0.00</td>\n",
              "      <td>0.00</td>\n",
              "      <td>0.00</td>\n",
              "      <td>0.0</td>\n",
              "      <td>0.0</td>\n",
              "      <td>0.58</td>\n",
              "      <td>0.0</td>\n",
              "      <td>0.0</td>\n",
              "      <td>0.0</td>\n",
              "      <td>0.0</td>\n",
              "      <td>0.0</td>\n",
              "      <td>0.0</td>\n",
              "      <td>0.0</td>\n",
              "      <td>0.00</td>\n",
              "      <td>22.05</td>\n",
              "      <td>0.0</td>\n",
              "      <td>0.0</td>\n",
              "      <td>0.135</td>\n",
              "      <td>0.339</td>\n",
              "      <td>0.067</td>\n",
              "      <td>0.000</td>\n",
              "      <td>0.000</td>\n",
              "      <td>0.0</td>\n",
              "      <td>4.130</td>\n",
              "      <td>81</td>\n",
              "      <td>285</td>\n",
              "      <td>0</td>\n",
              "    </tr>\n",
              "    <tr>\n",
              "      <th>2032</th>\n",
              "      <td>0.0</td>\n",
              "      <td>0.0</td>\n",
              "      <td>0.00</td>\n",
              "      <td>0.0</td>\n",
              "      <td>0.00</td>\n",
              "      <td>0.00</td>\n",
              "      <td>0.00</td>\n",
              "      <td>0.00</td>\n",
              "      <td>0.00</td>\n",
              "      <td>0.00</td>\n",
              "      <td>0.00</td>\n",
              "      <td>1.58</td>\n",
              "      <td>0.00</td>\n",
              "      <td>0.0</td>\n",
              "      <td>0.0</td>\n",
              "      <td>0.00</td>\n",
              "      <td>0.0</td>\n",
              "      <td>0.00</td>\n",
              "      <td>0.00</td>\n",
              "      <td>0.0</td>\n",
              "      <td>0.00</td>\n",
              "      <td>0.0</td>\n",
              "      <td>0.0</td>\n",
              "      <td>0.00</td>\n",
              "      <td>0.0</td>\n",
              "      <td>0.0</td>\n",
              "      <td>0.00</td>\n",
              "      <td>0.0</td>\n",
              "      <td>0.0</td>\n",
              "      <td>0.0</td>\n",
              "      <td>0.0</td>\n",
              "      <td>0.00</td>\n",
              "      <td>1.58</td>\n",
              "      <td>0.00</td>\n",
              "      <td>0.0</td>\n",
              "      <td>0.0</td>\n",
              "      <td>1.58</td>\n",
              "      <td>0.0</td>\n",
              "      <td>0.0</td>\n",
              "      <td>0.0</td>\n",
              "      <td>0.0</td>\n",
              "      <td>0.0</td>\n",
              "      <td>0.0</td>\n",
              "      <td>0.0</td>\n",
              "      <td>0.00</td>\n",
              "      <td>0.00</td>\n",
              "      <td>0.0</td>\n",
              "      <td>0.0</td>\n",
              "      <td>0.000</td>\n",
              "      <td>1.182</td>\n",
              "      <td>0.000</td>\n",
              "      <td>0.000</td>\n",
              "      <td>0.000</td>\n",
              "      <td>0.0</td>\n",
              "      <td>2.057</td>\n",
              "      <td>13</td>\n",
              "      <td>72</td>\n",
              "      <td>0</td>\n",
              "    </tr>\n",
              "    <tr>\n",
              "      <th>3005</th>\n",
              "      <td>0.0</td>\n",
              "      <td>0.0</td>\n",
              "      <td>0.00</td>\n",
              "      <td>0.0</td>\n",
              "      <td>0.00</td>\n",
              "      <td>0.00</td>\n",
              "      <td>0.00</td>\n",
              "      <td>0.00</td>\n",
              "      <td>0.00</td>\n",
              "      <td>0.00</td>\n",
              "      <td>0.00</td>\n",
              "      <td>0.00</td>\n",
              "      <td>0.00</td>\n",
              "      <td>0.0</td>\n",
              "      <td>0.0</td>\n",
              "      <td>4.00</td>\n",
              "      <td>0.0</td>\n",
              "      <td>0.00</td>\n",
              "      <td>0.00</td>\n",
              "      <td>0.0</td>\n",
              "      <td>0.00</td>\n",
              "      <td>0.0</td>\n",
              "      <td>0.0</td>\n",
              "      <td>0.00</td>\n",
              "      <td>0.0</td>\n",
              "      <td>0.0</td>\n",
              "      <td>4.00</td>\n",
              "      <td>0.0</td>\n",
              "      <td>0.0</td>\n",
              "      <td>0.0</td>\n",
              "      <td>0.0</td>\n",
              "      <td>0.00</td>\n",
              "      <td>0.00</td>\n",
              "      <td>0.00</td>\n",
              "      <td>0.0</td>\n",
              "      <td>0.0</td>\n",
              "      <td>0.00</td>\n",
              "      <td>0.0</td>\n",
              "      <td>0.0</td>\n",
              "      <td>0.0</td>\n",
              "      <td>0.0</td>\n",
              "      <td>4.0</td>\n",
              "      <td>0.0</td>\n",
              "      <td>0.0</td>\n",
              "      <td>4.00</td>\n",
              "      <td>0.00</td>\n",
              "      <td>0.0</td>\n",
              "      <td>0.0</td>\n",
              "      <td>0.000</td>\n",
              "      <td>0.000</td>\n",
              "      <td>0.000</td>\n",
              "      <td>0.000</td>\n",
              "      <td>0.000</td>\n",
              "      <td>0.0</td>\n",
              "      <td>1.111</td>\n",
              "      <td>2</td>\n",
              "      <td>10</td>\n",
              "      <td>0</td>\n",
              "    </tr>\n",
              "    <tr>\n",
              "      <th>3652</th>\n",
              "      <td>0.0</td>\n",
              "      <td>0.0</td>\n",
              "      <td>0.00</td>\n",
              "      <td>0.0</td>\n",
              "      <td>0.00</td>\n",
              "      <td>0.00</td>\n",
              "      <td>0.00</td>\n",
              "      <td>0.00</td>\n",
              "      <td>0.00</td>\n",
              "      <td>0.00</td>\n",
              "      <td>0.00</td>\n",
              "      <td>0.00</td>\n",
              "      <td>0.00</td>\n",
              "      <td>0.0</td>\n",
              "      <td>0.0</td>\n",
              "      <td>0.00</td>\n",
              "      <td>0.0</td>\n",
              "      <td>0.00</td>\n",
              "      <td>0.00</td>\n",
              "      <td>0.0</td>\n",
              "      <td>0.00</td>\n",
              "      <td>0.0</td>\n",
              "      <td>0.0</td>\n",
              "      <td>0.00</td>\n",
              "      <td>0.0</td>\n",
              "      <td>0.0</td>\n",
              "      <td>20.00</td>\n",
              "      <td>0.0</td>\n",
              "      <td>0.0</td>\n",
              "      <td>0.0</td>\n",
              "      <td>0.0</td>\n",
              "      <td>0.00</td>\n",
              "      <td>0.00</td>\n",
              "      <td>0.00</td>\n",
              "      <td>0.0</td>\n",
              "      <td>0.0</td>\n",
              "      <td>0.00</td>\n",
              "      <td>0.0</td>\n",
              "      <td>0.0</td>\n",
              "      <td>0.0</td>\n",
              "      <td>0.0</td>\n",
              "      <td>0.0</td>\n",
              "      <td>0.0</td>\n",
              "      <td>0.0</td>\n",
              "      <td>0.00</td>\n",
              "      <td>0.00</td>\n",
              "      <td>0.0</td>\n",
              "      <td>0.0</td>\n",
              "      <td>0.000</td>\n",
              "      <td>0.000</td>\n",
              "      <td>0.000</td>\n",
              "      <td>0.000</td>\n",
              "      <td>0.000</td>\n",
              "      <td>0.0</td>\n",
              "      <td>1.000</td>\n",
              "      <td>1</td>\n",
              "      <td>5</td>\n",
              "      <td>0</td>\n",
              "    </tr>\n",
              "  </tbody>\n",
              "</table>\n",
              "</div>"
            ],
            "text/plain": [
              "        0  0.64  0.64.1  0.1  0.32   0.2  ...   0.43  0.44   3.756  61  278  1\n",
              "3003  0.0   0.0    0.83  0.0  0.41  0.00  ...  0.000   0.0   1.444  22   91  0\n",
              "2     0.0   0.0    0.00  0.0  0.63  0.00  ...  0.000   0.0   3.537  40  191  1\n",
              "955   0.0   0.0    0.00  0.0  3.09  0.00  ...  0.000   0.0  10.692  65  139  1\n",
              "4083  0.0   0.0    0.00  0.0  0.00  0.00  ...  0.000   0.0   1.200   3   12  0\n",
              "4129  0.0   0.0    0.52  0.0  0.00  1.04  ...  0.000   0.0   1.466   6   44  0\n",
              "315   0.0   0.0    0.00  0.0  0.91  0.00  ...  0.269   0.0   4.350  31   87  1\n",
              "4383  0.0   0.0    0.00  0.0  0.00  0.00  ...  0.000   0.0   4.130  81  285  0\n",
              "2032  0.0   0.0    0.00  0.0  0.00  0.00  ...  0.000   0.0   2.057  13   72  0\n",
              "3005  0.0   0.0    0.00  0.0  0.00  0.00  ...  0.000   0.0   1.111   2   10  0\n",
              "3652  0.0   0.0    0.00  0.0  0.00  0.00  ...  0.000   0.0   1.000   1    5  0\n",
              "\n",
              "[10 rows x 58 columns]"
            ]
          },
          "metadata": {
            "tags": []
          },
          "execution_count": 37
        }
      ]
    },
    {
      "cell_type": "code",
      "metadata": {
        "id": "zAxN6A6gdPte",
        "outputId": "03bd96c6-7c50-4b51-83b5-180b920d5cf7",
        "colab": {
          "base_uri": "https://localhost:8080/",
          "height": 376
        }
      },
      "source": [
        "df1 = pd.read_csv('spambase.DOCUMENTATION',sep=\":\",error_bad_lines= False)\n",
        "df1.sample(10)"
      ],
      "execution_count": 24,
      "outputs": [
        {
          "output_type": "stream",
          "text": [
            "b'Skipping line 80: expected 2 fields, saw 6\\n'\n"
          ],
          "name": "stderr"
        },
        {
          "output_type": "execute_result",
          "data": {
            "text/html": [
              "<div>\n",
              "<style scoped>\n",
              "    .dataframe tbody tr th:only-of-type {\n",
              "        vertical-align: middle;\n",
              "    }\n",
              "\n",
              "    .dataframe tbody tr th {\n",
              "        vertical-align: top;\n",
              "    }\n",
              "\n",
              "    .dataframe thead th {\n",
              "        text-align: right;\n",
              "    }\n",
              "</style>\n",
              "<table border=\"1\" class=\"dataframe\">\n",
              "  <thead>\n",
              "    <tr style=\"text-align: right;\">\n",
              "      <th></th>\n",
              "      <th>1. Title</th>\n",
              "      <th>SPAM E-mail Database</th>\n",
              "    </tr>\n",
              "  </thead>\n",
              "  <tbody>\n",
              "    <tr>\n",
              "      <th>56</th>\n",
              "      <td>9. Class Distribution</td>\n",
              "      <td>NaN</td>\n",
              "    </tr>\n",
              "    <tr>\n",
              "      <th>4</th>\n",
              "      <td>(c) Generated</td>\n",
              "      <td>June-July 1999</td>\n",
              "    </tr>\n",
              "    <tr>\n",
              "      <th>27</th>\n",
              "      <td>6. Number of Attributes</td>\n",
              "      <td>58 (57 continuous, 1 nominal class label)</td>\n",
              "    </tr>\n",
              "    <tr>\n",
              "      <th>58</th>\n",
              "      <td>\\tNon-Spam  2788  (60.6%)</td>\n",
              "      <td>NaN</td>\n",
              "    </tr>\n",
              "    <tr>\n",
              "      <th>67</th>\n",
              "      <td>8  0    11.11  0.10529   0.40107  381</td>\n",
              "      <td>NaN</td>\n",
              "    </tr>\n",
              "    <tr>\n",
              "      <th>34</th>\n",
              "      <td>capital letters.  For the statistical measures...</td>\n",
              "      <td>NaN</td>\n",
              "    </tr>\n",
              "    <tr>\n",
              "      <th>57</th>\n",
              "      <td>\\tSpam\\t  1813  (39.4%)</td>\n",
              "      <td>NaN</td>\n",
              "    </tr>\n",
              "    <tr>\n",
              "      <th>48</th>\n",
              "      <td>= length of longest uninterrupted sequence of ...</td>\n",
              "      <td>NaN</td>\n",
              "    </tr>\n",
              "    <tr>\n",
              "      <th>45</th>\n",
              "      <td>1 continuous real [1,...] attribute of type ca...</td>\n",
              "      <td>NaN</td>\n",
              "    </tr>\n",
              "    <tr>\n",
              "      <th>11</th>\n",
              "      <td>20-25% of the spam passed through the f...</td>\n",
              "      <td>NaN</td>\n",
              "    </tr>\n",
              "  </tbody>\n",
              "</table>\n",
              "</div>"
            ],
            "text/plain": [
              "                                             1. Title                        SPAM E-mail Database\n",
              "56                              9. Class Distribution                                         NaN\n",
              "4                                       (c) Generated                              June-July 1999\n",
              "27                            6. Number of Attributes   58 (57 continuous, 1 nominal class label)\n",
              "58                          \\tNon-Spam  2788  (60.6%)                                         NaN\n",
              "67    8  0    11.11  0.10529   0.40107  381                                                   NaN\n",
              "34  capital letters.  For the statistical measures...                                         NaN\n",
              "57                            \\tSpam\\t  1813  (39.4%)                                         NaN\n",
              "48  = length of longest uninterrupted sequence of ...                                         NaN\n",
              "45  1 continuous real [1,...] attribute of type ca...                                         NaN\n",
              "11         20-25% of the spam passed through the f...                                         NaN"
            ]
          },
          "metadata": {
            "tags": []
          },
          "execution_count": 24
        }
      ]
    },
    {
      "cell_type": "code",
      "metadata": {
        "id": "w_c_8wXejWy9",
        "outputId": "5b365cf0-ad58-4a83-cf55-456541384b05",
        "colab": {
          "base_uri": "https://localhost:8080/",
          "height": 396
        }
      },
      "source": [
        " df2 = pd.read_csv('spambase.names',sep=\":\",error_bad_lines= False)\n",
        "df2.sample(10)"
      ],
      "execution_count": 29,
      "outputs": [
        {
          "output_type": "stream",
          "text": [
            "b'Skipping line 29: expected 1 fields, saw 3\\nSkipping line 34: expected 1 fields, saw 2\\nSkipping line 35: expected 1 fields, saw 2\\nSkipping line 36: expected 1 fields, saw 2\\nSkipping line 37: expected 1 fields, saw 2\\nSkipping line 38: expected 1 fields, saw 2\\nSkipping line 39: expected 1 fields, saw 2\\nSkipping line 40: expected 1 fields, saw 2\\nSkipping line 41: expected 1 fields, saw 2\\nSkipping line 42: expected 1 fields, saw 2\\nSkipping line 43: expected 1 fields, saw 2\\nSkipping line 44: expected 1 fields, saw 2\\nSkipping line 45: expected 1 fields, saw 2\\nSkipping line 46: expected 1 fields, saw 2\\nSkipping line 47: expected 1 fields, saw 2\\nSkipping line 48: expected 1 fields, saw 2\\nSkipping line 49: expected 1 fields, saw 2\\nSkipping line 50: expected 1 fields, saw 2\\nSkipping line 51: expected 1 fields, saw 2\\nSkipping line 52: expected 1 fields, saw 2\\nSkipping line 53: expected 1 fields, saw 2\\nSkipping line 54: expected 1 fields, saw 2\\nSkipping line 55: expected 1 fields, saw 2\\nSkipping line 56: expected 1 fields, saw 2\\nSkipping line 57: expected 1 fields, saw 2\\nSkipping line 58: expected 1 fields, saw 2\\nSkipping line 59: expected 1 fields, saw 2\\nSkipping line 60: expected 1 fields, saw 2\\nSkipping line 61: expected 1 fields, saw 2\\nSkipping line 62: expected 1 fields, saw 2\\nSkipping line 63: expected 1 fields, saw 2\\nSkipping line 64: expected 1 fields, saw 2\\nSkipping line 65: expected 1 fields, saw 2\\nSkipping line 66: expected 1 fields, saw 2\\nSkipping line 67: expected 1 fields, saw 2\\nSkipping line 68: expected 1 fields, saw 2\\nSkipping line 69: expected 1 fields, saw 2\\nSkipping line 70: expected 1 fields, saw 2\\nSkipping line 71: expected 1 fields, saw 2\\nSkipping line 72: expected 1 fields, saw 2\\nSkipping line 73: expected 1 fields, saw 2\\nSkipping line 74: expected 1 fields, saw 2\\nSkipping line 75: expected 1 fields, saw 2\\nSkipping line 76: expected 1 fields, saw 2\\nSkipping line 77: expected 1 fields, saw 2\\nSkipping line 78: expected 1 fields, saw 2\\nSkipping line 79: expected 1 fields, saw 2\\nSkipping line 80: expected 1 fields, saw 2\\nSkipping line 81: expected 1 fields, saw 2\\nSkipping line 82: expected 1 fields, saw 2\\nSkipping line 83: expected 1 fields, saw 2\\nSkipping line 84: expected 1 fields, saw 2\\nSkipping line 85: expected 1 fields, saw 2\\nSkipping line 86: expected 1 fields, saw 2\\nSkipping line 87: expected 1 fields, saw 2\\nSkipping line 88: expected 1 fields, saw 2\\nSkipping line 89: expected 1 fields, saw 2\\nSkipping line 90: expected 1 fields, saw 2\\n'\n"
          ],
          "name": "stderr"
        },
        {
          "output_type": "execute_result",
          "data": {
            "text/html": [
              "<div>\n",
              "<style scoped>\n",
              "    .dataframe tbody tr th:only-of-type {\n",
              "        vertical-align: middle;\n",
              "    }\n",
              "\n",
              "    .dataframe tbody tr th {\n",
              "        vertical-align: top;\n",
              "    }\n",
              "\n",
              "    .dataframe thead th {\n",
              "        text-align: right;\n",
              "    }\n",
              "</style>\n",
              "<table border=\"1\" class=\"dataframe\">\n",
              "  <thead>\n",
              "    <tr style=\"text-align: right;\">\n",
              "      <th></th>\n",
              "      <th>| SPAM E-MAIL DATABASE ATTRIBUTES (in .names format)</th>\n",
              "    </tr>\n",
              "  </thead>\n",
              "  <tbody>\n",
              "    <tr>\n",
              "      <th>18</th>\n",
              "      <td>| 1 continuous integer [1,...] attribute of ty...</td>\n",
              "    </tr>\n",
              "    <tr>\n",
              "      <th>4</th>\n",
              "      <td>| total number of words in e-mail.  A \"word\" i...</td>\n",
              "    </tr>\n",
              "    <tr>\n",
              "      <th>16</th>\n",
              "      <td>| = length of longest uninterrupted sequence o...</td>\n",
              "    </tr>\n",
              "    <tr>\n",
              "      <th>1</th>\n",
              "      <td>| 48 continuous real [0,100] attributes of typ...</td>\n",
              "    </tr>\n",
              "    <tr>\n",
              "      <th>24</th>\n",
              "      <td>| i.e. unsolicited commercial e-mail.</td>\n",
              "    </tr>\n",
              "    <tr>\n",
              "      <th>6</th>\n",
              "      <td>| characters or end-of-string.</td>\n",
              "    </tr>\n",
              "    <tr>\n",
              "      <th>21</th>\n",
              "      <td>|</td>\n",
              "    </tr>\n",
              "    <tr>\n",
              "      <th>19</th>\n",
              "      <td>| = sum of length of uninterrupted sequences o...</td>\n",
              "    </tr>\n",
              "    <tr>\n",
              "      <th>15</th>\n",
              "      <td>| 1 continuous integer [1,...] attribute of ty...</td>\n",
              "    </tr>\n",
              "    <tr>\n",
              "      <th>12</th>\n",
              "      <td>| 1 continuous real [1,...] attribute of type ...</td>\n",
              "    </tr>\n",
              "  </tbody>\n",
              "</table>\n",
              "</div>"
            ],
            "text/plain": [
              "   | SPAM E-MAIL DATABASE ATTRIBUTES (in .names format)\n",
              "18  | 1 continuous integer [1,...] attribute of ty...  \n",
              "4   | total number of words in e-mail.  A \"word\" i...  \n",
              "16  | = length of longest uninterrupted sequence o...  \n",
              "1   | 48 continuous real [0,100] attributes of typ...  \n",
              "24            | i.e. unsolicited commercial e-mail.    \n",
              "6                      | characters or end-of-string.  \n",
              "21                                                  |  \n",
              "19  | = sum of length of uninterrupted sequences o...  \n",
              "15  | 1 continuous integer [1,...] attribute of ty...  \n",
              "12  | 1 continuous real [1,...] attribute of type ...  "
            ]
          },
          "metadata": {
            "tags": []
          },
          "execution_count": 29
        }
      ]
    },
    {
      "cell_type": "markdown",
      "metadata": {
        "id": "kbCe9mohoBFe"
      },
      "source": [
        "# Checking the data"
      ]
    },
    {
      "cell_type": "code",
      "metadata": {
        "id": "qnF2XceKjk0b",
        "outputId": "501c558a-cf50-4dff-e00d-2b412e1082f8",
        "colab": {
          "base_uri": "https://localhost:8080/",
          "height": 34
        }
      },
      "source": [
        "# Determining the no. of records in our dataset\n",
        "#\n",
        "df.shape[0]"
      ],
      "execution_count": 30,
      "outputs": [
        {
          "output_type": "execute_result",
          "data": {
            "text/plain": [
              "102"
            ]
          },
          "metadata": {
            "tags": []
          },
          "execution_count": 30
        }
      ]
    },
    {
      "cell_type": "code",
      "metadata": {
        "id": "5EC3JDiOovXV",
        "outputId": "76addc14-e60a-4849-d9dd-873aa7033ae4",
        "colab": {
          "base_uri": "https://localhost:8080/",
          "height": 204
        }
      },
      "source": [
        "# Previewing the top of our dataset\n",
        "#\n",
        "df.head()"
      ],
      "execution_count": 31,
      "outputs": [
        {
          "output_type": "execute_result",
          "data": {
            "text/html": [
              "<div>\n",
              "<style scoped>\n",
              "    .dataframe tbody tr th:only-of-type {\n",
              "        vertical-align: middle;\n",
              "    }\n",
              "\n",
              "    .dataframe tbody tr th {\n",
              "        vertical-align: top;\n",
              "    }\n",
              "\n",
              "    .dataframe thead th {\n",
              "        text-align: right;\n",
              "    }\n",
              "</style>\n",
              "<table border=\"1\" class=\"dataframe\">\n",
              "  <thead>\n",
              "    <tr style=\"text-align: right;\">\n",
              "      <th></th>\n",
              "      <th>1. Title:  SPAM E-mail Database</th>\n",
              "    </tr>\n",
              "  </thead>\n",
              "  <tbody>\n",
              "    <tr>\n",
              "      <th>0</th>\n",
              "      <td>2. Sources:</td>\n",
              "    </tr>\n",
              "    <tr>\n",
              "      <th>1</th>\n",
              "      <td>(b) Donor: George Forman (gforman at nospam...</td>\n",
              "    </tr>\n",
              "    <tr>\n",
              "      <th>2</th>\n",
              "      <td>(c) Generated: June-July 1999</td>\n",
              "    </tr>\n",
              "    <tr>\n",
              "      <th>3</th>\n",
              "      <td>3. Past Usage:</td>\n",
              "    </tr>\n",
              "    <tr>\n",
              "      <th>4</th>\n",
              "      <td>(a) Hewlett-Packard Internal-only Technical...</td>\n",
              "    </tr>\n",
              "  </tbody>\n",
              "</table>\n",
              "</div>"
            ],
            "text/plain": [
              "                     1. Title:  SPAM E-mail Database\n",
              "0                                        2. Sources:\n",
              "1     (b) Donor: George Forman (gforman at nospam...\n",
              "2                      (c) Generated: June-July 1999\n",
              "3                                     3. Past Usage:\n",
              "4     (a) Hewlett-Packard Internal-only Technical..."
            ]
          },
          "metadata": {
            "tags": []
          },
          "execution_count": 31
        }
      ]
    },
    {
      "cell_type": "code",
      "metadata": {
        "id": "gRgZgmFHoy9f",
        "outputId": "d8825dd8-7520-465a-dabe-946595983002",
        "colab": {
          "base_uri": "https://localhost:8080/",
          "height": 204
        }
      },
      "source": [
        "# Previewing the bottom of our dataset\n",
        "# \n",
        "df.tail()"
      ],
      "execution_count": 32,
      "outputs": [
        {
          "output_type": "execute_result",
          "data": {
            "text/html": [
              "<div>\n",
              "<style scoped>\n",
              "    .dataframe tbody tr th:only-of-type {\n",
              "        vertical-align: middle;\n",
              "    }\n",
              "\n",
              "    .dataframe tbody tr th {\n",
              "        vertical-align: top;\n",
              "    }\n",
              "\n",
              "    .dataframe thead th {\n",
              "        text-align: right;\n",
              "    }\n",
              "</style>\n",
              "<table border=\"1\" class=\"dataframe\">\n",
              "  <thead>\n",
              "    <tr style=\"text-align: right;\">\n",
              "      <th></th>\n",
              "      <th>1. Title:  SPAM E-mail Database</th>\n",
              "    </tr>\n",
              "  </thead>\n",
              "  <tbody>\n",
              "    <tr>\n",
              "      <th>97</th>\n",
              "      <td>56 1    9989   52.173    194.89   374</td>\n",
              "    </tr>\n",
              "    <tr>\n",
              "      <th>98</th>\n",
              "      <td>57 1    15841  283.29    606.35   214</td>\n",
              "    </tr>\n",
              "    <tr>\n",
              "      <th>99</th>\n",
              "      <td>58 0    1      0.39404   0.4887   124</td>\n",
              "    </tr>\n",
              "    <tr>\n",
              "      <th>100</th>\n",
              "      <td>This file: 'spambase.DOCUMENTATION' at the UCI...</td>\n",
              "    </tr>\n",
              "    <tr>\n",
              "      <th>101</th>\n",
              "      <td>http://www.ics.uci.edu/~mlearn/MLRepository.html</td>\n",
              "    </tr>\n",
              "  </tbody>\n",
              "</table>\n",
              "</div>"
            ],
            "text/plain": [
              "                       1. Title:  SPAM E-mail Database\n",
              "97     56 1    9989   52.173    194.89   374          \n",
              "98     57 1    15841  283.29    606.35   214          \n",
              "99     58 0    1      0.39404   0.4887   124          \n",
              "100  This file: 'spambase.DOCUMENTATION' at the UCI...\n",
              "101   http://www.ics.uci.edu/~mlearn/MLRepository.html"
            ]
          },
          "metadata": {
            "tags": []
          },
          "execution_count": 32
        }
      ]
    },
    {
      "cell_type": "code",
      "metadata": {
        "id": "LaTHDOxHo1t5",
        "outputId": "b976453a-76df-40cb-d2f3-b2983c30536e",
        "colab": {
          "base_uri": "https://localhost:8080/",
          "height": 51
        }
      },
      "source": [
        "# Checking whether each column has an appropriate datatype\n",
        "#\n",
        "df.dtypes"
      ],
      "execution_count": 33,
      "outputs": [
        {
          "output_type": "execute_result",
          "data": {
            "text/plain": [
              "1. Title:  SPAM E-mail Database    object\n",
              "dtype: object"
            ]
          },
          "metadata": {
            "tags": []
          },
          "execution_count": 33
        }
      ]
    },
    {
      "cell_type": "markdown",
      "metadata": {
        "id": "hyQl5oMapH9f"
      },
      "source": [
        "# Tidying the data"
      ]
    },
    {
      "cell_type": "code",
      "metadata": {
        "id": "CsgJ-9RUpMiV",
        "outputId": "95fef46d-59f1-4b82-961d-fa4caca933e1",
        "colab": {
          "base_uri": "https://localhost:8080/",
          "height": 1000
        }
      },
      "source": [
        "# Checking for Outliers\n",
        "#\n",
        "# Checking for Outliers\n",
        "#\n",
        "import seaborn as sns\n",
        "import matplotlib.pyplot as plt\n",
        "\n",
        "boxplot = pd.DataFrame(data = df)\n",
        "\n",
        "plt.figure(figsize=(20,30))\n",
        "\n",
        "sns.boxplot(x=\"variable\", y=\"value\", data=pd.melt(boxplot), color = 'blue').set_title('Boxplots')"
      ],
      "execution_count": 81,
      "outputs": [
        {
          "output_type": "execute_result",
          "data": {
            "text/plain": [
              "Text(0.5, 1.0, 'Boxplots')"
            ]
          },
          "metadata": {
            "tags": []
          },
          "execution_count": 81
        },
        {
          "output_type": "display_data",
          "data": {
            "image/png": "[encoded data removed]",
            "text/plain": [
              "<Figure size 2000x3000 with 1 Axes>"
            ]
          },
          "metadata": {
            "tags": []
          }
        }
      ]
    },
    {
      "cell_type": "code",
      "metadata": {
        "id": "zsg8uyTho9Ki",
        "outputId": "defa43d6-11e4-4809-cdd8-d37511cf27b8",
        "colab": {
          "base_uri": "https://localhost:8080/",
          "height": 34
        }
      },
      "source": [
        "df.columns"
      ],
      "execution_count": 34,
      "outputs": [
        {
          "output_type": "execute_result",
          "data": {
            "text/plain": [
              "Index(['1. Title:  SPAM E-mail Database'], dtype='object')"
            ]
          },
          "metadata": {
            "tags": []
          },
          "execution_count": 34
        }
      ]
    },
    {
      "cell_type": "code",
      "metadata": {
        "id": "r-EqlbkxpXnl",
        "outputId": "54e8f248-7b29-4719-915d-6947c4b31ecf",
        "colab": {
          "base_uri": "https://localhost:8080/",
          "height": 1000
        }
      },
      "source": [
        "# Checking for Anomalies\n",
        "#\n",
        "Q1= df.quantile(0.25)\n",
        "Q3 =df.quantile(0.75)\n",
        "IQR = Q3-Q1\n",
        "display('0.25 quartile')\n",
        "print(Q1)\n",
        "print('----------------------------------------')\n",
        "display('0.75 quartile')\n",
        "print(Q3)\n",
        "print('----------------------------------------')\n",
        "display('0.5 quartile')\n",
        "print(IQR)"
      ],
      "execution_count": 38,
      "outputs": [
        {
          "output_type": "display_data",
          "data": {
            "application/vnd.google.colaboratory.intrinsic+json": {
              "type": "string"
            },
            "text/plain": [
              "'0.25 quartile'"
            ]
          },
          "metadata": {
            "tags": []
          }
        },
        {
          "output_type": "stream",
          "text": [
            "0          0.000\n",
            "0.64       0.000\n",
            "0.64.1     0.000\n",
            "0.1        0.000\n",
            "0.32       0.000\n",
            "0.2        0.000\n",
            "0.3        0.000\n",
            "0.4        0.000\n",
            "0.5        0.000\n",
            "0.6        0.000\n",
            "0.7        0.000\n",
            "0.64.2     0.000\n",
            "0.8        0.000\n",
            "0.9        0.000\n",
            "0.10       0.000\n",
            "0.32.1     0.000\n",
            "0.11       0.000\n",
            "1.29       0.000\n",
            "1.93       0.000\n",
            "0.12       0.000\n",
            "0.96       0.000\n",
            "0.13       0.000\n",
            "0.14       0.000\n",
            "0.15       0.000\n",
            "0.16       0.000\n",
            "0.17       0.000\n",
            "0.18       0.000\n",
            "0.19       0.000\n",
            "0.20       0.000\n",
            "0.21       0.000\n",
            "0.22       0.000\n",
            "0.23       0.000\n",
            "0.24       0.000\n",
            "0.25       0.000\n",
            "0.26       0.000\n",
            "0.27       0.000\n",
            "0.28       0.000\n",
            "0.29       0.000\n",
            "0.30       0.000\n",
            "0.31       0.000\n",
            "0.32.2     0.000\n",
            "0.33       0.000\n",
            "0.34       0.000\n",
            "0.35       0.000\n",
            "0.36       0.000\n",
            "0.37       0.000\n",
            "0.38       0.000\n",
            "0.39       0.000\n",
            "0.40       0.000\n",
            "0.41       0.000\n",
            "0.42       0.000\n",
            "0.778      0.000\n",
            "0.43       0.000\n",
            "0.44       0.000\n",
            "3.756      1.588\n",
            "61         6.000\n",
            "278       35.000\n",
            "1          0.000\n",
            "Name: 0.25, dtype: float64\n",
            "----------------------------------------\n"
          ],
          "name": "stdout"
        },
        {
          "output_type": "display_data",
          "data": {
            "application/vnd.google.colaboratory.intrinsic+json": {
              "type": "string"
            },
            "text/plain": [
              "'0.75 quartile'"
            ]
          },
          "metadata": {
            "tags": []
          }
        },
        {
          "output_type": "stream",
          "text": [
            "0           0.00000\n",
            "0.64        0.00000\n",
            "0.64.1      0.42000\n",
            "0.1         0.00000\n",
            "0.32        0.38250\n",
            "0.2         0.00000\n",
            "0.3         0.00000\n",
            "0.4         0.00000\n",
            "0.5         0.00000\n",
            "0.6         0.16000\n",
            "0.7         0.00000\n",
            "0.64.2      0.80000\n",
            "0.8         0.00000\n",
            "0.9         0.00000\n",
            "0.10        0.00000\n",
            "0.32.1      0.10000\n",
            "0.11        0.00000\n",
            "1.29        0.00000\n",
            "1.93        2.64000\n",
            "0.12        0.00000\n",
            "0.96        1.27000\n",
            "0.13        0.00000\n",
            "0.14        0.00000\n",
            "0.15        0.00000\n",
            "0.16        0.00000\n",
            "0.17        0.00000\n",
            "0.18        0.00000\n",
            "0.19        0.00000\n",
            "0.20        0.00000\n",
            "0.21        0.00000\n",
            "0.22        0.00000\n",
            "0.23        0.00000\n",
            "0.24        0.00000\n",
            "0.25        0.00000\n",
            "0.26        0.00000\n",
            "0.27        0.00000\n",
            "0.28        0.00000\n",
            "0.29        0.00000\n",
            "0.30        0.00000\n",
            "0.31        0.00000\n",
            "0.32.2      0.00000\n",
            "0.33        0.00000\n",
            "0.34        0.00000\n",
            "0.35        0.00000\n",
            "0.36        0.11000\n",
            "0.37        0.00000\n",
            "0.38        0.00000\n",
            "0.39        0.00000\n",
            "0.40        0.00000\n",
            "0.41        0.18800\n",
            "0.42        0.00000\n",
            "0.778       0.31425\n",
            "0.43        0.05200\n",
            "0.44        0.00000\n",
            "3.756       3.70525\n",
            "61         43.00000\n",
            "278       265.25000\n",
            "1           1.00000\n",
            "Name: 0.75, dtype: float64\n",
            "----------------------------------------\n"
          ],
          "name": "stdout"
        },
        {
          "output_type": "display_data",
          "data": {
            "application/vnd.google.colaboratory.intrinsic+json": {
              "type": "string"
            },
            "text/plain": [
              "'0.5 quartile'"
            ]
          },
          "metadata": {
            "tags": []
          }
        },
        {
          "output_type": "stream",
          "text": [
            "0           0.00000\n",
            "0.64        0.00000\n",
            "0.64.1      0.42000\n",
            "0.1         0.00000\n",
            "0.32        0.38250\n",
            "0.2         0.00000\n",
            "0.3         0.00000\n",
            "0.4         0.00000\n",
            "0.5         0.00000\n",
            "0.6         0.16000\n",
            "0.7         0.00000\n",
            "0.64.2      0.80000\n",
            "0.8         0.00000\n",
            "0.9         0.00000\n",
            "0.10        0.00000\n",
            "0.32.1      0.10000\n",
            "0.11        0.00000\n",
            "1.29        0.00000\n",
            "1.93        2.64000\n",
            "0.12        0.00000\n",
            "0.96        1.27000\n",
            "0.13        0.00000\n",
            "0.14        0.00000\n",
            "0.15        0.00000\n",
            "0.16        0.00000\n",
            "0.17        0.00000\n",
            "0.18        0.00000\n",
            "0.19        0.00000\n",
            "0.20        0.00000\n",
            "0.21        0.00000\n",
            "0.22        0.00000\n",
            "0.23        0.00000\n",
            "0.24        0.00000\n",
            "0.25        0.00000\n",
            "0.26        0.00000\n",
            "0.27        0.00000\n",
            "0.28        0.00000\n",
            "0.29        0.00000\n",
            "0.30        0.00000\n",
            "0.31        0.00000\n",
            "0.32.2      0.00000\n",
            "0.33        0.00000\n",
            "0.34        0.00000\n",
            "0.35        0.00000\n",
            "0.36        0.11000\n",
            "0.37        0.00000\n",
            "0.38        0.00000\n",
            "0.39        0.00000\n",
            "0.40        0.00000\n",
            "0.41        0.18800\n",
            "0.42        0.00000\n",
            "0.778       0.31425\n",
            "0.43        0.05200\n",
            "0.44        0.00000\n",
            "3.756       2.11725\n",
            "61         37.00000\n",
            "278       230.25000\n",
            "1           1.00000\n",
            "dtype: float64\n"
          ],
          "name": "stdout"
        }
      ]
    },
    {
      "cell_type": "code",
      "metadata": {
        "id": "QrlpqsOLuwO6",
        "outputId": "45c2f1eb-2b77-4a4f-ad6a-c69a99f15d9f",
        "colab": {
          "base_uri": "https://localhost:8080/",
          "height": 1000
        }
      },
      "source": [
        "# Check for missing values \n",
        "df.isnull().sum().sort_values(ascending=False) / df.shape[0] * 100\n",
        "#There are no missing values"
      ],
      "execution_count": 41,
      "outputs": [
        {
          "output_type": "execute_result",
          "data": {
            "text/plain": [
              "1         0.0\n",
              "0.10      0.0\n",
              "0.18      0.0\n",
              "0.17      0.0\n",
              "0.16      0.0\n",
              "0.15      0.0\n",
              "0.14      0.0\n",
              "0.13      0.0\n",
              "0.96      0.0\n",
              "0.12      0.0\n",
              "1.93      0.0\n",
              "1.29      0.0\n",
              "0.11      0.0\n",
              "0.32.1    0.0\n",
              "0.9       0.0\n",
              "278       0.0\n",
              "0.8       0.0\n",
              "0.64.2    0.0\n",
              "0.7       0.0\n",
              "0.6       0.0\n",
              "0.5       0.0\n",
              "0.4       0.0\n",
              "0.3       0.0\n",
              "0.2       0.0\n",
              "0.32      0.0\n",
              "0.1       0.0\n",
              "0.64.1    0.0\n",
              "0.64      0.0\n",
              "0.19      0.0\n",
              "0.20      0.0\n",
              "0.21      0.0\n",
              "0.22      0.0\n",
              "61        0.0\n",
              "3.756     0.0\n",
              "0.44      0.0\n",
              "0.43      0.0\n",
              "0.778     0.0\n",
              "0.42      0.0\n",
              "0.41      0.0\n",
              "0.40      0.0\n",
              "0.39      0.0\n",
              "0.38      0.0\n",
              "0.37      0.0\n",
              "0.36      0.0\n",
              "0.35      0.0\n",
              "0.34      0.0\n",
              "0.33      0.0\n",
              "0.32.2    0.0\n",
              "0.31      0.0\n",
              "0.30      0.0\n",
              "0.29      0.0\n",
              "0.28      0.0\n",
              "0.27      0.0\n",
              "0.26      0.0\n",
              "0.25      0.0\n",
              "0.24      0.0\n",
              "0.23      0.0\n",
              "0         0.0\n",
              "dtype: float64"
            ]
          },
          "metadata": {
            "tags": []
          },
          "execution_count": 41
        }
      ]
    },
    {
      "cell_type": "markdown",
      "metadata": {
        "id": "C-yAWCrYpfM7"
      },
      "source": [
        "# Exploratory Data Analysis"
      ]
    },
    {
      "cell_type": "code",
      "metadata": {
        "id": "tuOBy4BRpjtG",
        "outputId": "a9fdcd72-1ecb-4c57-ec9e-417780aa3f0b",
        "colab": {
          "base_uri": "https://localhost:8080/",
          "height": 646
        }
      },
      "source": [
        "# To uninstall pandas profiler\n",
        "!pip uninstall pandas_profiling"
      ],
      "execution_count": 50,
      "outputs": [
        {
          "output_type": "stream",
          "text": [
            "Uninstalling pandas-profiling-1.4.1:\n",
            "  Would remove:\n",
            "    /usr/local/lib/python3.6/dist-packages/pandas_profiling-1.4.1.dist-info/*\n",
            "    /usr/local/lib/python3.6/dist-packages/pandas_profiling/*\n",
            "Proceed (y/n)? Traceback (most recent call last):\n",
            "  File \"/usr/local/lib/python3.6/dist-packages/pip/_internal/cli/base_command.py\", line 153, in _main\n",
            "    status = self.run(options, args)\n",
            "  File \"/usr/local/lib/python3.6/dist-packages/pip/_internal/commands/uninstall.py\", line 79, in run\n",
            "    auto_confirm=options.yes, verbose=self.verbosity > 0,\n",
            "  File \"/usr/local/lib/python3.6/dist-packages/pip/_internal/req/req_install.py\", line 755, in uninstall\n",
            "    uninstalled_pathset.remove(auto_confirm, verbose)\n",
            "  File \"/usr/local/lib/python3.6/dist-packages/pip/_internal/req/req_uninstall.py\", line 388, in remove\n",
            "    if auto_confirm or self._allowed_to_proceed(verbose):\n",
            "  File \"/usr/local/lib/python3.6/dist-packages/pip/_internal/req/req_uninstall.py\", line 431, in _allowed_to_proceed\n",
            "    return ask('Proceed (y/n)? ', ('y', 'n')) == 'y'\n",
            "  File \"/usr/local/lib/python3.6/dist-packages/pip/_internal/utils/misc.py\", line 245, in ask\n",
            "    response = input(message)\n",
            "KeyboardInterrupt\n",
            "\n",
            "During handling of the above exception, another exception occurred:\n",
            "\n",
            "Traceback (most recent call last):\n",
            "  File \"/usr/local/bin/pip3\", line 8, in <module>\n",
            "    sys.exit(main())\n",
            "  File \"/usr/local/lib/python3.6/dist-packages/pip/_internal/main.py\", line 47, in main\n",
            "    return command.main(cmd_args)\n",
            "  File \"/usr/local/lib/python3.6/dist-packages/pip/_internal/cli/base_command.py\", line 103, in main\n",
            "    return self._main(args)\n",
            "  File \"/usr/local/lib/python3.6/dist-packages/pip/_internal/cli/base_command.py\", line 182, in _main\n",
            "    logger.critical('Operation cancelled by user')\n",
            "  File \"/usr/lib/python3.6/logging/__init__.py\", line 1355, in critical\n",
            "    self._log(CRITICAL, msg, args, **kwargs)\n",
            "  File \"/usr/lib/python3.6/logging/__init__.py\", line 1432, in _log\n",
            "    fn, lno, func, sinfo = self.findCaller(stack_info)\n",
            "  File \"/usr/lib/python3.6/logging/__init__.py\", line 1389, in findCaller\n",
            "    filename = os.path.normcase(co.co_filename)\n",
            "KeyboardInterrupt\n"
          ],
          "name": "stdout"
        }
      ]
    },
    {
      "cell_type": "code",
      "metadata": {
        "id": "GQLGmUZQpoBO",
        "outputId": "ec9168ea-cda8-4413-e576-1fc0dfaf9e73",
        "colab": {
          "base_uri": "https://localhost:8080/",
          "height": 275
        }
      },
      "source": [
        "#Installing the pandas profiler\n",
        "!pip install pandas-profiling[notebook,html]"
      ],
      "execution_count": 52,
      "outputs": [
        {
          "output_type": "stream",
          "text": [
            "Requirement already satisfied: pandas-profiling[html,notebook] in /usr/local/lib/python3.6/dist-packages (1.4.1)\n",
            "\u001b[33m  WARNING: pandas-profiling 1.4.1 does not provide the extra 'html'\u001b[0m\n",
            "\u001b[33m  WARNING: pandas-profiling 1.4.1 does not provide the extra 'notebook'\u001b[0m\n",
            "Requirement already satisfied: matplotlib>=1.4 in /usr/local/lib/python3.6/dist-packages (from pandas-profiling[html,notebook]) (3.2.2)\n",
            "Requirement already satisfied: pandas>=0.19 in /usr/local/lib/python3.6/dist-packages (from pandas-profiling[html,notebook]) (1.1.2)\n",
            "Requirement already satisfied: six>=1.9 in /usr/local/lib/python3.6/dist-packages (from pandas-profiling[html,notebook]) (1.15.0)\n",
            "Requirement already satisfied: jinja2>=2.8 in /usr/local/lib/python3.6/dist-packages (from pandas-profiling[html,notebook]) (2.11.2)\n",
            "Requirement already satisfied: numpy>=1.11 in /usr/local/lib/python3.6/dist-packages (from matplotlib>=1.4->pandas-profiling[html,notebook]) (1.18.5)\n",
            "Requirement already satisfied: kiwisolver>=1.0.1 in /usr/local/lib/python3.6/dist-packages (from matplotlib>=1.4->pandas-profiling[html,notebook]) (1.2.0)\n",
            "Requirement already satisfied: python-dateutil>=2.1 in /usr/local/lib/python3.6/dist-packages (from matplotlib>=1.4->pandas-profiling[html,notebook]) (2.8.1)\n",
            "Requirement already satisfied: pyparsing!=2.0.4,!=2.1.2,!=2.1.6,>=2.0.1 in /usr/local/lib/python3.6/dist-packages (from matplotlib>=1.4->pandas-profiling[html,notebook]) (2.4.7)\n",
            "Requirement already satisfied: cycler>=0.10 in /usr/local/lib/python3.6/dist-packages (from matplotlib>=1.4->pandas-profiling[html,notebook]) (0.10.0)\n",
            "Requirement already satisfied: pytz>=2017.2 in /usr/local/lib/python3.6/dist-packages (from pandas>=0.19->pandas-profiling[html,notebook]) (2018.9)\n",
            "Requirement already satisfied: MarkupSafe>=0.23 in /usr/local/lib/python3.6/dist-packages (from jinja2>=2.8->pandas-profiling[html,notebook]) (1.1.1)\n"
          ],
          "name": "stdout"
        }
      ]
    },
    {
      "cell_type": "code",
      "metadata": {
        "id": "KIuT0cATptpR"
      },
      "source": [
        "import pandas_profiling\n",
        "from pandas_profiling import ProfileReport"
      ],
      "execution_count": 54,
      "outputs": []
    },
    {
      "cell_type": "code",
      "metadata": {
        "id": "r8DyCvEGpc2u"
      },
      "source": [
        "ProfileReport(df)"
      ],
      "execution_count": null,
      "outputs": []
    },
    {
      "cell_type": "code",
      "metadata": {
        "id": "MnKEOyFgpx9C",
        "outputId": "e5e7cae4-465a-417a-ea4f-7f29c7cc675a",
        "colab": {
          "base_uri": "https://localhost:8080/",
          "height": 1000
        }
      },
      "source": [
        "sns.histplot(df)\n",
        "sns.set(style='darkgrid')\n",
        "plt.title('Histogram')\n",
        "plt.show()"
      ],
      "execution_count": 97,
      "outputs": [
        {
          "output_type": "display_data",
          "data": {
            "image/png": "[encoded data removed]",
            "text/plain": [
              "<Figure size 800x550 with 1 Axes>"
            ]
          },
          "metadata": {
            "tags": []
          }
        }
      ]
    },
    {
      "cell_type": "code",
      "metadata": {
        "id": "PUHh7STWM9F6"
      },
      "source": [
        "from sklearn.model_selection import train_test_split as tts\n",
        "X = df.drop(['1'], axis=1)\n",
        "Y = df['1']\n",
        "\n",
        "# Split data\n",
        "X_train, X_test, y_train, y_test = tts(X, Y, test_size=.8, random_state=0)"
      ],
      "execution_count": 69,
      "outputs": []
    },
    {
      "cell_type": "code",
      "metadata": {
        "id": "nby4IzMHNKhX"
      },
      "source": [
        "# Random forest to see important features\n",
        "from sklearn.ensemble import RandomForestClassifier\n",
        "\n",
        "classifier = RandomForestClassifier(max_depth=2, random_state=0)\n",
        "classifier.fit(X_train, y_train)\n",
        "y_pred = classifier.predict(X_test)"
      ],
      "execution_count": 70,
      "outputs": []
    },
    {
      "cell_type": "code",
      "metadata": {
        "id": "WA77NMYdNLxY",
        "outputId": "db29d827-2664-4146-f0ab-0d3ccfd00ad5",
        "colab": {
          "base_uri": "https://localhost:8080/",
          "height": 986
        }
      },
      "source": [
        "# Get numerical feature importances\n",
        "importances = list(classifier.feature_importances_)\n",
        "\n",
        "# connect each feature with its importance\n",
        "# List of tuples with variable and importance\n",
        "feature_importances = [(feature, round(importance, 2)) for feature, importance in zip(df.columns, importances)]\n",
        "\n",
        "# sort the values in descending order, since we care about the most important features first.\n",
        "feature_importances = sorted(feature_importances, key = lambda x: x[1], reverse = True)\n",
        "\n",
        "# Print out the feature and\n",
        "[print('Variable: {:20} Importance: {}'.format(*pair)) for pair in feature_importances];"
      ],
      "execution_count": 71,
      "outputs": [
        {
          "output_type": "stream",
          "text": [
            "Variable: 0.3                  Importance: 0.12\n",
            "Variable: 0.15                 Importance: 0.1\n",
            "Variable: 0.778                Importance: 0.1\n",
            "Variable: 0.96                 Importance: 0.09\n",
            "Variable: 0.43                 Importance: 0.08\n",
            "Variable: 0.32.1               Importance: 0.07\n",
            "Variable: 0.14                 Importance: 0.06\n",
            "Variable: 3.756                Importance: 0.06\n",
            "Variable: 61                   Importance: 0.06\n",
            "Variable: 1.93                 Importance: 0.04\n",
            "Variable: 278                  Importance: 0.04\n",
            "Variable: 0.16                 Importance: 0.03\n",
            "Variable: 0.64.1               Importance: 0.02\n",
            "Variable: 0.32                 Importance: 0.02\n",
            "Variable: 0.11                 Importance: 0.02\n",
            "Variable: 0.4                  Importance: 0.01\n",
            "Variable: 0.7                  Importance: 0.01\n",
            "Variable: 0.12                 Importance: 0.01\n",
            "Variable: 0.17                 Importance: 0.01\n",
            "Variable: 0.18                 Importance: 0.01\n",
            "Variable: 0.28                 Importance: 0.01\n",
            "Variable: 0                    Importance: 0.0\n",
            "Variable: 0.64                 Importance: 0.0\n",
            "Variable: 0.1                  Importance: 0.0\n",
            "Variable: 0.2                  Importance: 0.0\n",
            "Variable: 0.5                  Importance: 0.0\n",
            "Variable: 0.6                  Importance: 0.0\n",
            "Variable: 0.64.2               Importance: 0.0\n",
            "Variable: 0.8                  Importance: 0.0\n",
            "Variable: 0.9                  Importance: 0.0\n",
            "Variable: 0.10                 Importance: 0.0\n",
            "Variable: 1.29                 Importance: 0.0\n",
            "Variable: 0.13                 Importance: 0.0\n",
            "Variable: 0.19                 Importance: 0.0\n",
            "Variable: 0.20                 Importance: 0.0\n",
            "Variable: 0.21                 Importance: 0.0\n",
            "Variable: 0.22                 Importance: 0.0\n",
            "Variable: 0.23                 Importance: 0.0\n",
            "Variable: 0.24                 Importance: 0.0\n",
            "Variable: 0.25                 Importance: 0.0\n",
            "Variable: 0.26                 Importance: 0.0\n",
            "Variable: 0.27                 Importance: 0.0\n",
            "Variable: 0.29                 Importance: 0.0\n",
            "Variable: 0.30                 Importance: 0.0\n",
            "Variable: 0.31                 Importance: 0.0\n",
            "Variable: 0.32.2               Importance: 0.0\n",
            "Variable: 0.33                 Importance: 0.0\n",
            "Variable: 0.34                 Importance: 0.0\n",
            "Variable: 0.35                 Importance: 0.0\n",
            "Variable: 0.36                 Importance: 0.0\n",
            "Variable: 0.37                 Importance: 0.0\n",
            "Variable: 0.38                 Importance: 0.0\n",
            "Variable: 0.39                 Importance: 0.0\n",
            "Variable: 0.40                 Importance: 0.0\n",
            "Variable: 0.41                 Importance: 0.0\n",
            "Variable: 0.42                 Importance: 0.0\n",
            "Variable: 0.44                 Importance: 0.0\n"
          ],
          "name": "stdout"
        }
      ]
    },
    {
      "cell_type": "markdown",
      "metadata": {
        "id": "ox1PmIgFNupo"
      },
      "source": [
        "The important features from the random forest are as follows:\n",
        "1.0.3\n",
        "2.0.15\n",
        "3.0.778\n",
        "4.0.96\n",
        "5.0.43\n",
        ".\n",
        ".\n",
        ".\n",
        "etc"
      ]
    },
    {
      "cell_type": "code",
      "metadata": {
        "id": "qds3KskxOgvd"
      },
      "source": [
        "# Data Reduction\n",
        "#\n",
        "X1 = df[['0.3', '0.15', '0.778','0.96','0.43']].values"
      ],
      "execution_count": 72,
      "outputs": []
    },
    {
      "cell_type": "code",
      "metadata": {
        "id": "QaEQmHEmOzLU"
      },
      "source": [
        "X1_train, X1_test, y1_train, y1_test = train_test_split(X1,y, test_size=0.8, random_state=0)"
      ],
      "execution_count": 73,
      "outputs": []
    },
    {
      "cell_type": "markdown",
      "metadata": {
        "id": "Sb5uK9tlFoS7"
      },
      "source": [
        "# Implementing the solution"
      ]
    },
    {
      "cell_type": "code",
      "metadata": {
        "id": "3lfyRlojFzlF"
      },
      "source": [
        "clf= GaussianNB()"
      ],
      "execution_count": 74,
      "outputs": []
    },
    {
      "cell_type": "code",
      "metadata": {
        "id": "Ym1-ZoA6F_dL"
      },
      "source": [
        "y_pred =  model.predict(X_test)"
      ],
      "execution_count": null,
      "outputs": []
    },
    {
      "cell_type": "code",
      "metadata": {
        "id": "Dbnov499Xfdc"
      },
      "source": [
        "model = clf.fit(X_train, y_train)"
      ],
      "execution_count": 83,
      "outputs": []
    },
    {
      "cell_type": "code",
      "metadata": {
        "id": "HS33DJ0VGDnY",
        "outputId": "a2a32997-2c74-4cda-b5db-0798b66eab5e",
        "colab": {
          "base_uri": "https://localhost:8080/",
          "height": 221
        }
      },
      "source": [
        "print(np.mean(y_pred == y_test))\n",
        "print(\"Accuracy score:\", metrics.accuracy_score(y_test, y_pred))\n",
        "print(\"F1 Score:\", metrics.f1_score(y_test, y_pred))\n",
        "print(\"Classification Report::\", metrics.classification_report(y_test, y_pred))\n",
        "#The accuracy is at 87.17%"
      ],
      "execution_count": 84,
      "outputs": [
        {
          "output_type": "stream",
          "text": [
            "0.8717391304347826\n",
            "Accuracy score: 0.8717391304347826\n",
            "F1 Score: 0.8129952456418382\n",
            "Classification Report::               precision    recall  f1-score   support\n",
            "\n",
            "           0       0.83      0.99      0.90      2207\n",
            "           1       0.98      0.70      0.81      1473\n",
            "\n",
            "    accuracy                           0.87      3680\n",
            "   macro avg       0.90      0.84      0.86      3680\n",
            "weighted avg       0.89      0.87      0.87      3680\n",
            "\n"
          ],
          "name": "stdout"
        }
      ]
    },
    {
      "cell_type": "code",
      "metadata": {
        "id": "XrWoGCzjGHMG"
      },
      "source": [
        "# Implementing the Solution\n",
        "# \n",
        "\n",
        "model = clf.fit(X1_train, y1_train)"
      ],
      "execution_count": 85,
      "outputs": []
    },
    {
      "cell_type": "code",
      "metadata": {
        "id": "l3_aAsjGGN3B"
      },
      "source": [
        "y1_pred =  model.predict(X1_test)"
      ],
      "execution_count": 86,
      "outputs": []
    },
    {
      "cell_type": "code",
      "metadata": {
        "id": "8WDL5eSZGPF5",
        "outputId": "5f8fd024-f369-4e03-f6e7-cf08859cb183",
        "colab": {
          "base_uri": "https://localhost:8080/",
          "height": 34
        }
      },
      "source": [
        "print(np.mean(y1_pred == y1_test))"
      ],
      "execution_count": 87,
      "outputs": [
        {
          "output_type": "stream",
          "text": [
            "0.8125\n"
          ],
          "name": "stdout"
        }
      ]
    },
    {
      "cell_type": "code",
      "metadata": {
        "id": "6xMTQsjFGfTN",
        "outputId": "20a2d6dd-6ca4-4255-dca6-9e7600e6ef2a",
        "colab": {
          "base_uri": "https://localhost:8080/",
          "height": 204
        }
      },
      "source": [
        "from sklearn import metrics\n",
        "\n",
        "print(\"Accuracy score:\", metrics.accuracy_score(y1_test, y1_pred))\n",
        "print(\"F1 Score:\", metrics.f1_score(y1_test, y1_pred))\n",
        "print(\"Classification Report::\", metrics.classification_report(y1_test, y1_pred))"
      ],
      "execution_count": 88,
      "outputs": [
        {
          "output_type": "stream",
          "text": [
            "Accuracy score: 0.8125\n",
            "F1 Score: 0.7169811320754718\n",
            "Classification Report::               precision    recall  f1-score   support\n",
            "\n",
            "           0       0.78      0.96      0.86      2207\n",
            "           1       0.91      0.59      0.72      1473\n",
            "\n",
            "    accuracy                           0.81      3680\n",
            "   macro avg       0.84      0.78      0.79      3680\n",
            "weighted avg       0.83      0.81      0.80      3680\n",
            "\n"
          ],
          "name": "stdout"
        }
      ]
    },
    {
      "cell_type": "markdown",
      "metadata": {
        "id": "5V9YNpFxqHAM"
      },
      "source": [
        "# Conclusion\n",
        "The accuracy of the model is at 81.25% which is sufficient thus we conclude that the features identified as the most important were correct.However,the model could be improved further by including more features."
      ]
    },
    {
      "cell_type": "markdown",
      "metadata": {
        "id": "o2TRKFazGmsD"
      },
      "source": [
        "# Challenging the solution"
      ]
    },
    {
      "cell_type": "markdown",
      "metadata": {
        "id": "sMfE9lejlcWj"
      },
      "source": [
        "# a) Did we have the right question?\n",
        "Yes."
      ]
    },
    {
      "cell_type": "markdown",
      "metadata": {
        "id": "HlsSXdiGliRk"
      },
      "source": [
        "# b) Did we have the right data?\n",
        "Yes. The data available was sufficient for analysis."
      ]
    },
    {
      "cell_type": "markdown",
      "metadata": {
        "id": "AMKaU51EloCt"
      },
      "source": [
        "# c) What can be done to improve the solution?\n",
        "Tuning the hyperparameters."
      ]
    }
  ]
}